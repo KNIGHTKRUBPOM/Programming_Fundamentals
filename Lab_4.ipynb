{
  "nbformat": 4,
  "nbformat_minor": 0,
  "metadata": {
    "colab": {
      "provenance": [],
      "include_colab_link": true
    },
    "kernelspec": {
      "name": "python3",
      "display_name": "Python 3"
    },
    "language_info": {
      "name": "python"
    }
  },
  "cells": [
    {
      "cell_type": "markdown",
      "metadata": {
        "id": "view-in-github",
        "colab_type": "text"
      },
      "source": [
        "<a href=\"https://colab.research.google.com/github/KNIGHTKRUBPOM/Programming_Fundamentals/blob/main/Lab_4.ipynb\" target=\"_parent\"><img src=\"https://colab.research.google.com/assets/colab-badge.svg\" alt=\"Open In Colab\"/></a>"
      ]
    },
    {
      "cell_type": "markdown",
      "source": [
        "4.1 2520 คือ ตัวเลขที่น้อยที่สุด ที่สามารถหารด้วยตัวเลขทุกตัวตั้งแต่ 1-10 จงหาจำนวนเต็มบวกที่น้อยที่สุดที่หารด้วยตัวเลขทุกตัวตั้งแต่ 1-20\n",
        "\n",
        "15 = 360360\n",
        "\n",
        "20 = 232792560\n",
        "\n",
        "ปล. ห้าม import math"
      ],
      "metadata": {
        "id": "-bpz7hteQPdz"
      }
    },
    {
      "cell_type": "code",
      "execution_count": null,
      "metadata": {
        "id": "HSZUXcF2QMVn",
        "colab": {
          "base_uri": "https://localhost:8080/"
        },
        "outputId": "6c2c0300-e84e-4ff7-9fe4-45a34ef87a75"
      },
      "outputs": [
        {
          "output_type": "stream",
          "name": "stdout",
          "text": [
            "232792560\n"
          ]
        }
      ],
      "source": [
        "count = 1\n",
        "for i in range(1,21):\n",
        "    j = count\n",
        "    while j % i != 0:\n",
        "        j += count\n",
        "    count = j\n",
        "print(count)"
      ]
    },
    {
      "cell_type": "markdown",
      "source": [
        "4.2 จำนวนเฉพาะ (Prime Number) คือตัวเลขที่มีแต่ 1 กับตัวมันเองที่หารลงตัว โดยจำนวนเฉพาะ 6 ตัวแรกคือ 2, 3, 5, 7, 11, 13 โดยจำนวนเฉพาะตัวที่ 6 คือ 13 จงหาจำนวนเฉพาะตัวที่ 101\n",
        "\n",
        "=> 547"
      ],
      "metadata": {
        "id": "Wq1EFYHUWNOA"
      }
    },
    {
      "cell_type": "code",
      "source": [
        "count = []\n",
        "for i in range(1,551):\n",
        "    prime = True\n",
        "    for j in range(2,i):\n",
        "        if i % j == 0:\n",
        "            prime = False\n",
        "            break\n",
        "\n",
        "    if prime:\n",
        "        count.append(i)\n",
        "\n",
        "print(count[101])"
      ],
      "metadata": {
        "colab": {
          "base_uri": "https://localhost:8080/"
        },
        "id": "cpMa6Vp0Vz_L",
        "outputId": "b2f2ae87-aa9b-4d77-cb0c-f9ab73332264"
      },
      "execution_count": null,
      "outputs": [
        {
          "output_type": "stream",
          "name": "stdout",
          "text": [
            "547\n"
          ]
        }
      ]
    },
    {
      "cell_type": "markdown",
      "source": [
        "1.\tกำหนดให้มี List หนึ่งประกอบด้วยตัวเลขจำนวนหนึ่ง และ ให้รับตัวเลขจำนวน 1 จำนวน จากนั้นให้หาว่าใน List มีตัวเลข 2 จำนวนใดที่บวกกันเท่ากับตัวเลขที่รับมา ให้แสดงคำตอบเป็น List เช่น Output: [0,1] โดยอาจมีมากกว่า 1 คำตอบ\n",
        "\n",
        "ตัวอย่าง list : [2, 7, 11, 15]\n",
        "\n",
        "Input : 9\n",
        "\n",
        "Output : 2 + 7 = 9 (ถ้าไม่มีให้บอก None)\n"
      ],
      "metadata": {
        "id": "-pUpw-m_WqFG"
      }
    },
    {
      "cell_type": "code",
      "source": [
        "lst = [2, 7, 11, 15, 5 ,4, 6 ,3]\n",
        "num = int(input(\"Enter Num : \"))\n",
        "\n",
        "result = []\n",
        "final_result = []\n",
        "\n",
        "logic = False\n",
        "\n",
        "for i in range(len(lst)-1):\n",
        "    for j in lst:\n",
        "        if lst[i] + j == num:\n",
        "            result = [lst[i],j]\n",
        "            final_result.append(result)\n",
        "            logic = True\n",
        "\n",
        "if logic:\n",
        "    print(final_result)\n",
        "    # print(type(final_result))\n",
        "else:\n",
        "    print(\"None\")\n"
      ],
      "metadata": {
        "id": "s3djwBi4ks1g",
        "colab": {
          "base_uri": "https://localhost:8080/"
        },
        "outputId": "5f8ba7a8-f35b-47ea-9398-9edcf7f7777c"
      },
      "execution_count": null,
      "outputs": [
        {
          "output_type": "stream",
          "name": "stdout",
          "text": [
            "Enter Num : 9\n",
            "[[2, 7], [7, 2], [5, 4], [4, 5], [6, 3]]\n"
          ]
        }
      ]
    },
    {
      "cell_type": "markdown",
      "source": [
        "2.\tให้เขียนโปรแกรมรับข้อมูล 1 บรรทัด ประกอบด้วยตัวเลข 1 หลัก จำนวนไม่เกิน 10 ตัว คั่นด้วยช่องว่าง จากนั้นให้นำตัวเลขที่รับเข้ามาเรียงกัน และหาลำดับการเรียงที่ทำให้มีค่าน้อยที่สุด โดยต้องไม่ขึ้นต้นด้วย 0\n",
        "\n",
        "Input : 9 4 6 2  \n",
        "\n",
        "คำตอบ 2469\n",
        "\n",
        "Input : 3 0 8 1 3 3\n",
        "\n",
        "คำตอบ : 103338\n"
      ],
      "metadata": {
        "id": "_3yLG291lSFy"
      }
    },
    {
      "cell_type": "code",
      "source": [
        "count_zero = 0\n",
        "num = input(\"Enter Num : \").split()\n",
        "result = sorted(num)\n",
        "if len(num) > 10:\n",
        "    print(\"Error\")\n",
        "else:\n",
        "    for i in result:\n",
        "        if int(i) == 0:\n",
        "            count_zero += 1\n",
        "        else:\n",
        "            print(i,end=\"0\"*count_zero)\n",
        "            count_zero = 0"
      ],
      "metadata": {
        "id": "ACtXvMEyli0L",
        "colab": {
          "base_uri": "https://localhost:8080/"
        },
        "outputId": "66f1d6f0-0823-47fa-ede4-ebec76dd44d1"
      },
      "execution_count": null,
      "outputs": [
        {
          "output_type": "stream",
          "name": "stdout",
          "text": [
            "Enter Num :  3 0 8 1 3 3\n",
            "103338"
          ]
        }
      ]
    },
    {
      "cell_type": "markdown",
      "source": [
        "3.\tจากตัวเลขต่อไปนี้ ตัวเลขติดกัน 4 ตัวที่เมื่อนำมาคูณกันแล้วมีค่ามากที่สุดคือ 9 × 9 × 8 × 9 = 5832\n",
        "\n",
        "73167176531330624919225119674426574742355349194934\n",
        "96983520312774506326239578318016984801869478851843\n",
        "85861560789112949495459501737958331952853208805511\n",
        "12540698747158523863050715693290963295227443043557\n",
        "66896648950445244523161731856403098711121722383113\n",
        "62229893423380308135336276614282806444486645238749\n",
        "30358907296290491560440772390713810515859307960866\n",
        "70172427121883998797908792274921901699720888093776\n",
        "65727333001053367881220235421809751254540594752243\n",
        "52584907711670556013604839586446706324415722155397\n",
        "53697817977846174064955149290862569321978468622482\n",
        "83972241375657056057490261407972968652414535100474\n",
        "82166370484403199890008895243450658541227588666881\n",
        "16427171479924442928230863465674813919123162824586\n",
        "17866458359124566529476545682848912883142607690042\n",
        "24219022671055626321111109370544217506941658960408\n",
        "07198403850962455444362981230987879927244284909188\n",
        "84580156166097919133875499200524063689912560717606\n",
        "05886116467109405077541002256983155200055935729725\n",
        "71636269561882670428252483600823257530420752963450\n",
        "\n",
        "จงหาเลขติดกัน 8 ตัวที่เมื่อนำมาคูณกันแล้วมีค่ามากที่สุด และเป็นเลขอะไร ผลคูณเท่ากับเท่าไร\n",
        "\n",
        "The maximum product is: 7838208\n",
        "The digits are: 88399879\n",
        "\n",
        "\n",
        "\n"
      ],
      "metadata": {
        "id": "Gv8aIY7dliSY"
      }
    },
    {
      "cell_type": "code",
      "source": [
        "num = \"7316717653133062491922511967442657474235534919493496983520312774506326239578318016984801869478851843858615607891129494954595017379583319528532088055111254069874715852386305071569329096329522744304355766896648950445244523161731856403098711121722383113622298934233803081353362766142828064444866452387493035890729629049156044077239071381051585930796086670172427121883998797908792274921901699720888093776657273330010533678812202354218097512545405947522435258490771167055601360483958644670632441572215539753697817977846174064955149290862569321978468622482839722413756570560574902614079729686524145351004748216637048440319989000889524345065854122758866688116427171479924442928230863465674813919123162824586178664583591245665294765456828489128831426076900422421902267105562632111110937054421750694165896040807198403850962455444362981230987879927244284909188845801561660979191338754992005240636899125607176060588611646710940507754100225698315520005593572972571636269561882670428252483600823257530420752963450\"\n",
        "res = 0\n",
        "for i in range(len(num)-7):\n",
        "    sum = int(num[i])*int(num[i+1])*int(num[i+2])*int(num[i+3])*int(num[i+4]) *int(num[i+5]) *int(num[i+6]) *int(num[i+7])\n",
        "    if sum >= res:\n",
        "        count = num[i]+num[i+1]+num[i+2]+num[i+3]+num[i+4]+num[i+5]+num[i+6]+num[i+7]\n",
        "        res = sum\n",
        "print(f\"The Maximun is : {res} The digits are : {count}\")"
      ],
      "metadata": {
        "id": "wvVqGMknmBu5",
        "outputId": "600b6a32-b2ab-4e30-e044-faf3d08096a0",
        "colab": {
          "base_uri": "https://localhost:8080/"
        }
      },
      "execution_count": null,
      "outputs": [
        {
          "output_type": "stream",
          "name": "stdout",
          "text": [
            "The Maximun is : 7838208 The digits are : 88399879\n"
          ]
        }
      ]
    },
    {
      "cell_type": "markdown",
      "source": [
        "4.\tตัวเลข palindrome คือตัวเลขที่อ่านได้ทั้ง 2 ทาง แล้วมีค่าเท่ากัน เช่น 9009 โดย 9009 คือ palindrome ที่เกิดจากการคูณของตัวเลข 2 หลักที่มากที่สุด คือ 91x99 จงหา palindrome ที่มากที่สุดของตัวเลข 3 หลัก\n",
        "\n",
        "The largest palindrome product of 3-digit numbers is: 906609\n"
      ],
      "metadata": {
        "id": "fjy5LNC7m0We"
      }
    },
    {
      "cell_type": "code",
      "source": [
        "num = 0\n",
        "max_palindrome = 0\n",
        "for i in range(999,900,-1):\n",
        "    for j in range(999,900,-1):\n",
        "        sum_p = i*j\n",
        "        if str(i*j) == str(i*j)[::-1]:\n",
        "            if sum_p > max_palindrome:\n",
        "                max_palindrome = sum_p\n",
        "                max_i = i\n",
        "                max_j = j\n",
        "print(f\"{max_palindrome} = {max_i} * {max_j}\")\n"
      ],
      "metadata": {
        "id": "y-QY3hzVmsud",
        "colab": {
          "base_uri": "https://localhost:8080/"
        },
        "outputId": "1787cfd1-455c-46f2-a7d4-924b1eedfdd0"
      },
      "execution_count": null,
      "outputs": [
        {
          "output_type": "stream",
          "name": "stdout",
          "text": [
            "906609 = 993 * 913\n"
          ]
        }
      ]
    },
    {
      "cell_type": "markdown",
      "source": [
        "5.\tกำหนดให้ string มีเพียงสัญลักษณ์ '(', ')', '{', '}', '[' และ ']' ให้ตรวจสอบว่า String ถูกต้อง โดย เมื่อมีวงเล็บเปิด จะต้องมีวงเล็บปิดที่เป็นชนิดเดียวกัน จำนวนเท่ากันที่เป็นคู่ของมัน\n",
        "\n",
        "```\n",
        "Input: s = \"()\"\n",
        "Output: true\n",
        "Input: s = \"()[]{}\"\n",
        "Output: true\n",
        "Input: s = \"[()]{}\"\n",
        "Output: true\n",
        "Input: s = \"(]\"\n",
        "Output: false\n",
        "```\n",
        "\n",
        "\n"
      ],
      "metadata": {
        "id": "rUZvLJ-JnGJY"
      }
    },
    {
      "cell_type": "code",
      "source": [
        "sign = ['(', ')', '{', '}', '[',']' ]\n",
        "s = input(\"Enter Sign : \")\n",
        "s_logic = True\n",
        "\n",
        "for i in s:\n",
        "    if i not in sign:\n",
        "        s_logic = False\n",
        "        break\n",
        "\n",
        "if s_logic:\n",
        "    count1 = s.count(\"(\")\n",
        "    count2 = s.count(\")\")\n",
        "    count3 = s.count(\"{\")\n",
        "    count4 = s.count(\"}\")\n",
        "    count5 = s.count(\"[\")\n",
        "    count6 = s.count(\"]\")\n",
        "\n",
        "    if count1 == count2 and count3 == count4 and count5 and count6 :\n",
        "        print(\"True\")\n",
        "    else:\n",
        "        print(\"False\")\n",
        "\n",
        "else:\n",
        "    print(\"Error\")"
      ],
      "metadata": {
        "id": "Ku8ts4x7nk1y",
        "colab": {
          "base_uri": "https://localhost:8080/"
        },
        "outputId": "dad11ab5-a6ba-4e10-d174-aa94d089e6a9"
      },
      "execution_count": null,
      "outputs": [
        {
          "output_type": "stream",
          "name": "stdout",
          "text": [
            "Enter Sign : (){}[]\n",
            "True\n"
          ]
        }
      ]
    },
    {
      "cell_type": "markdown",
      "source": [
        "6.\tกำหนดให้รับข้อมูล Integer (เป็นบวกหรือลบก็ได้) จากนั้นให้แสดงผลลัพธ์ที่ reverse ตัวเลขตามตัวอย่าง\n",
        "\n",
        "```\n",
        "Input: x = 123\n",
        "Output: 321\n",
        "Input: x = -123\n",
        "Output: -321\n",
        "Input: x = 120\n",
        "Output: 21\n",
        "```\n",
        "\n"
      ],
      "metadata": {
        "id": "PLL9Wdqqnx7o"
      }
    },
    {
      "cell_type": "code",
      "source": [
        "num = input(\"Input : \")\n",
        "x = num.lstrip(\"-\").isnumeric()\n",
        "\n",
        "if x == False:\n",
        "    print(\"Error\")\n",
        "else:\n",
        "    num = int(num)\n",
        "    num_string = str(num)\n",
        "    Last_word = num_string[-1]\n",
        "    Last_word = int(Last_word)\n",
        "    if num >= 0 and Last_word != 0:\n",
        "        num = str(num)\n",
        "        print(num[::-1])\n",
        "    elif num < 0 :\n",
        "        num = num*(-1)\n",
        "        num = str(num)\n",
        "        num = num[::-1]\n",
        "        num = int(num)\n",
        "        print(f\"-{num}\")\n",
        "    elif Last_word == 0:\n",
        "        num = num_string[::-1]\n",
        "        num = int(num)\n",
        "        print(num)\n"
      ],
      "metadata": {
        "colab": {
          "base_uri": "https://localhost:8080/"
        },
        "id": "3PzhjJT6CPTI",
        "outputId": "39157442-789e-4c1e-f564-9db2bf76d004"
      },
      "execution_count": null,
      "outputs": [
        {
          "output_type": "stream",
          "name": "stdout",
          "text": [
            "Input : -123\n",
            "-321\n"
          ]
        }
      ]
    },
    {
      "cell_type": "markdown",
      "source": [
        "7.\tเขียนโปรแกรมเพื่อแสดงปิรามิดบนจอภาพ โดยแสดงเป็นรูปสี่เหลี่ยม ตัวเลขเริ่มจาก 0  และเพิ่มค่าตามลําดับจํานวนขั้น จาก 0 ถึง N (รับค่า N จากคีย์บอร์ด) ค่าของ N อยู่ระหว่าง 0-9 ดังตัวอย่าง\n",
        "\n",
        "\n",
        "```\n",
        "\t\t\t\t\t\t\t\t\t         0000000\n",
        "\t\t\t\t\t\t\t    00000\t\t0111110\n",
        "\t\t\t\t\t000\t\t 01110\t\t0122210\n",
        "\t\t\t0\t\t010\t\t01210\t\t0123210\n",
        "\t\t\t\t\t000\t\t 01110\t\t0122210\n",
        "\t\t\t\t\t\t\t    00000\t\t0111110\n",
        "\t\t\t\t\t\t\t\t\t         0000000\n",
        "\n",
        "\t\t\tn=0\t\tn=1\t\tn=2\t\tn=3\n",
        "\n",
        "```\n",
        "\n"
      ],
      "metadata": {
        "id": "KboD6c8rn52a"
      }
    },
    {
      "cell_type": "code",
      "source": [
        "N = int(input(\"Row : \"))\n",
        "N += 1\n",
        "for i in range(N,0,-1):\n",
        "    # step1\n",
        "    for j in range(N,0,-1):\n",
        "        print(N - max(i,j),end=\" \")\n",
        "    # step2\n",
        "    for j in range(2,N+1):\n",
        "        print(N - max(i,j),end=\" \")\n",
        "    print(\" \")\n",
        "    # step3\n",
        "for i in range(2,N+1):\n",
        "    for j in range(N,0,-1):\n",
        "        print(N - max(i,j), end=\" \")\n",
        "    for j in range(2,N+1):\n",
        "        print(N - max(i,j),end=\" \")\n",
        "    print(\" \")"
      ],
      "metadata": {
        "id": "sGhw6Iyfobiz",
        "outputId": "f448a75c-87cc-4410-fc1c-53654f95acab",
        "colab": {
          "base_uri": "https://localhost:8080/"
        }
      },
      "execution_count": null,
      "outputs": [
        {
          "output_type": "stream",
          "name": "stdout",
          "text": [
            "Row : 4\n",
            "0 0 0 0 0 0 0 0 0  \n",
            "0 1 1 1 1 1 1 1 0  \n",
            "0 1 2 2 2 2 2 1 0  \n",
            "0 1 2 3 3 3 2 1 0  \n",
            "0 1 2 3 4 3 2 1 0  \n",
            "0 1 2 3 3 3 2 1 0  \n",
            "0 1 2 2 2 2 2 1 0  \n",
            "0 1 1 1 1 1 1 1 0  \n",
            "0 0 0 0 0 0 0 0 0  \n"
          ]
        }
      ]
    },
    {
      "cell_type": "markdown",
      "source": [
        "8.\tเขียนโปรแกรมเพื่อแสดงปิรามิดบนจอภาพ โดยแสดงเป็นรูปสี่เหลี่ยม ตัวเลขเริ่มจาก 0  และเพิ่มค่าตามลําดับจํานวนขั้น จาก 0 ถึง N (รับค่า N จากคีย์บอร์ด) กําหนดให้จุดศูนย์กลางของรูปสี่เหลี่ยมอยู่ที่แถว 13 คอลัมน์ 40 ของจอภาพค่าของ N อยู่ระหว่าง 0-9 ดังตัวอย่าง\n",
        "\n",
        "\n",
        "\n",
        "```\n",
        "\t\t\t\t\t\t\t\t\t            0\n",
        "\t\t\t\t\t\t\t      0\t\t    010\n",
        "\t\t\t\t\t  0\t\t  010\t\t  01210\n",
        "\t\t\t0\t\t010\t\t01210\t\t0123210\n",
        "\t\t\t\t\t  0\t\t  010\t\t  01210\n",
        "\t\t\t\t\t\t\t      0\t\t    010\n",
        "\t\t\t\t\t\t\t\t\t            0\n",
        "\n",
        "\t\t\tn=0\t\tn=1\t\tn=2\t\tn=3\n",
        "\n",
        "```\n",
        "\n"
      ],
      "metadata": {
        "id": "ecRYU6Lkob6Q"
      }
    },
    {
      "cell_type": "code",
      "source": [
        "num = int(input(\"Num : \"))\n",
        "for i in range(num):\n",
        "    for j in range(num-i-1):\n",
        "        print(\" \",end=\"\")\n",
        "    for j in range(i+1):\n",
        "        print(j,end=\"\")\n",
        "    for j in range(i-1,-1,-1):\n",
        "        print(j,end=\"\")\n",
        "    print()\n",
        "for i in range(num-1):\n",
        "    for j in range(i+1):\n",
        "        print(\" \",end=\"\")\n",
        "    for j in range(num-i-1):\n",
        "        print(j,end=\"\")\n",
        "    for j in range(num-i-3,-1,-1):\n",
        "        print(j,end=\"\")\n",
        "    print()"
      ],
      "metadata": {
        "colab": {
          "base_uri": "https://localhost:8080/"
        },
        "id": "n9bf7OxVCd-x",
        "outputId": "40ccf2f0-e8f9-493d-b487-7768edb37596"
      },
      "execution_count": null,
      "outputs": [
        {
          "output_type": "stream",
          "name": "stdout",
          "text": [
            "Num : 5\n",
            "    0\n",
            "   010\n",
            "  01210\n",
            " 0123210\n",
            "012343210\n",
            " 0123210\n",
            "  01210\n",
            "   010\n",
            "    0\n"
          ]
        }
      ]
    },
    {
      "cell_type": "markdown",
      "source": [
        "9.\tให้เขียนโปรแกรมสร้างรูปสามเหลี่ยมที่วางซ้อนกัน 3 รูป โดยแต่ละรูปสร้างมาจากเครื่องหมาย \"*\" โดยกําหนดให้รับตัวเลขระดับของสามเหลี่ยมจากคีย์บอร์ด จากตัวอย่างข้างล่างนี้เป็นรูปสามเหลี่ยมระดับที่ 3 และ 4\n",
        "\n",
        "\n",
        "\n",
        "```\n",
        "              *\n",
        "\t\t     ***\n",
        "\t\t    *****\n",
        "\t\t   *     *\n",
        "\t      ***   ***\n",
        "\t     ***** *****\n",
        "\n",
        "  \t\t    *\n",
        "\t  \t   ***\n",
        "\t\t    *****\n",
        "\t\t   *******\n",
        "\t      *       *\n",
        "\t     ***     ***\n",
        "\t    *****   *****\n",
        "\t   ******* *******\n",
        "\n",
        "```\n",
        "\n"
      ],
      "metadata": {
        "id": "Po50A-Kuo5t4"
      }
    },
    {
      "cell_type": "code",
      "source": [
        "num = int(input(\"Row : \"))\n",
        "for i in range(num):\n",
        "    for j in range((num*2)-i-1):\n",
        "        print(' ',end=\"\")\n",
        "    for j in range(i+1):\n",
        "        print('*',end=\"\")\n",
        "    for j in range(i):\n",
        "        print('*',end=\"\")\n",
        "    print()\n",
        "for i in range(num):\n",
        "    for j in range(num-i-1):\n",
        "        print(' ',end=\"\")\n",
        "    for j in range(i+1):\n",
        "        print('*',end=\"\")\n",
        "    for j in range(i):\n",
        "        print('*',end=\"\")\n",
        "    for j in range(num-i):\n",
        "        print(' ',end=\"\")\n",
        "    for j in range(num-i-1):\n",
        "        print(' ',end=\"\")\n",
        "    for j in range(i+1):\n",
        "        print('*',end=\"\")\n",
        "    for j in range(i):\n",
        "        print('*',end=\"\")\n",
        "    print()\n"
      ],
      "metadata": {
        "id": "WTd4Wdt_dJg8",
        "outputId": "53b76182-b7d0-447d-9e7e-ade0473b131f",
        "colab": {
          "base_uri": "https://localhost:8080/"
        }
      },
      "execution_count": null,
      "outputs": [
        {
          "output_type": "stream",
          "name": "stdout",
          "text": [
            "Row : 5\n",
            "         *\n",
            "        ***\n",
            "       *****\n",
            "      *******\n",
            "     *********\n",
            "    *         *\n",
            "   ***       ***\n",
            "  *****     *****\n",
            " *******   *******\n",
            "********* *********\n"
          ]
        }
      ]
    }
  ]
}